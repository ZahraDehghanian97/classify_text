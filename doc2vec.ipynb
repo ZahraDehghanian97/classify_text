{
  "nbformat": 4,
  "nbformat_minor": 0,
  "metadata": {
    "colab": {
      "name": "doc2vec.ipynb",
      "provenance": [],
      "authorship_tag": "ABX9TyOKvLHHXFB7nPmtYdWa3QIv",
      "include_colab_link": true
    },
    "kernelspec": {
      "name": "python3",
      "display_name": "Python 3"
    },
    "language_info": {
      "name": "python"
    }
  },
  "cells": [
    {
      "cell_type": "markdown",
      "metadata": {
        "id": "view-in-github",
        "colab_type": "text"
      },
      "source": [
        "<a href=\"https://colab.research.google.com/github/zahraDehghanian97/classify_text/blob/master/doc2vec.ipynb\" target=\"_parent\"><img src=\"https://colab.research.google.com/assets/colab-badge.svg\" alt=\"Open In Colab\"/></a>"
      ]
    },
    {
      "cell_type": "markdown",
      "metadata": {
        "id": "TWheA6CSj3ft"
      },
      "source": [
        "# **Mount google drive**"
      ]
    },
    {
      "cell_type": "code",
      "metadata": {
        "colab": {
          "base_uri": "https://localhost:8080/"
        },
        "id": "9r3444wwj6Mr",
        "outputId": "98f5b88c-03c1-495a-9bd0-847fcf3a3b17"
      },
      "source": [
        "from google.colab import drive\n",
        "drive.mount('/content/drive')"
      ],
      "execution_count": 1,
      "outputs": [
        {
          "output_type": "stream",
          "text": [
            "Mounted at /content/drive\n"
          ],
          "name": "stdout"
        }
      ]
    },
    {
      "cell_type": "markdown",
      "metadata": {
        "id": "YTSvl-QYjyo3"
      },
      "source": [
        "# **prerequisit**"
      ]
    },
    {
      "cell_type": "code",
      "metadata": {
        "id": "m2F_EIyczeua"
      },
      "source": [
        "import pandas as pd\n",
        "import numpy as np\n",
        "from itertools import groupby\n",
        "import re\n",
        "from gensim.models import Doc2Vec \n",
        "from gensim.models.doc2vec import TaggedDocument\n",
        "from sklearn.metrics import balanced_accuracy_score"
      ],
      "execution_count": 3,
      "outputs": []
    },
    {
      "cell_type": "markdown",
      "metadata": {
        "id": "5tmrWx7z1Uce"
      },
      "source": [
        "# **load dataset**"
      ]
    },
    {
      "cell_type": "code",
      "metadata": {
        "id": "SJf9TL43Sk7k"
      },
      "source": [
        "train_path = '/content/drive/MyDrive/Colab Notebooks/labeling_application/train_set_1.csv'\n",
        "test_path = '/content/drive/MyDrive/Colab Notebooks/labeling_application/test_set_1.csv'\n",
        "result_path = '/content/drive/MyDrive/Colab Notebooks/labeling_application/prediction_doc2vec.csv'\n",
        "model_path = '/content/drive/MyDrive/Colab Notebooks/labeling_application/doc2vec.model'\n",
        "stop_path = '/content/drive/MyDrive/Colab Notebooks/labeling_application/stop_word.csv'"
      ],
      "execution_count": 4,
      "outputs": []
    },
    {
      "cell_type": "code",
      "metadata": {
        "id": "tRE6T9PCTueG"
      },
      "source": [
        "# this function extract important word of each game\n",
        "def prepare_string(string):\n",
        "    result = []\n",
        "    # remove html tags from string\n",
        "    TAG_RE = re.compile(r'<[^>]+>')\n",
        "    string = TAG_RE.sub('', string)\n",
        "    # remove punctuation mark\n",
        "    string = re.sub(\"[!()@.?؛:،-]\",'', string)\n",
        "    strings=string.split()\n",
        "    # remove stop word\n",
        "    for s in strings : \n",
        "      s = s.strip()\n",
        "      if not s in stop_word.values and s!='' : \n",
        "        result.append(s)\n",
        "    return result\n",
        "\n",
        "# load short list of stop word \n",
        "stop_word = pd.read_csv(stop_path ,header = None, encoding = 'utf8')\n",
        "\n",
        "# load train set\n",
        "docs = []\n",
        "id_docs = []\n",
        "sentences = []\n",
        "word_count = []\n",
        "labels = []\n",
        "train_data = pd.read_csv(train_path, encoding='utf8')\n",
        "for d in train_data.values:\n",
        "    id_docs.append(d[0])\n",
        "    p_string = prepare_string(d[1])\n",
        "    docs.append(p_string)\n",
        "    sentences.extend(p_string)\n",
        "    word_count.append(len(p_string))\n",
        "    labels.append(d[2])\n",
        "distinct_words = list(set(sentences))\n",
        "\n",
        "# split validation data\n",
        "id_docs_validation = id_docs[-150:]\n",
        "id_docs = id_docs[:-150]\n",
        "docs_validation = docs[-150:]\n",
        "docs = docs [:-150]\n",
        "word_count_validation = word_count[-150:]\n",
        "word_count = word_count[:-150]\n",
        "labels_validation = labels[-150:]\n",
        "labels = labels[:-150]\n",
        "\n",
        "\n",
        "# load test set\n",
        "docs_test = []\n",
        "id_docs_test = []\n",
        "test_data = pd.read_csv(test_path, encoding='utf8')\n",
        "for d in test_data.values:\n",
        "    id_docs_test.append(d[0])\n",
        "    docs_test.append(prepare_string(d[1]))\n",
        "\n",
        "print(docs[0])\n",
        "print(id_docs_test[0])"
      ],
      "execution_count": 5,
      "outputs": []
    },
    {
      "cell_type": "markdown",
      "metadata": {
        "id": "sH6_KDhEOepb"
      },
      "source": [
        "# **doc2Vec Model**"
      ]
    },
    {
      "cell_type": "code",
      "metadata": {
        "colab": {
          "base_uri": "https://localhost:8080/"
        },
        "id": "QyP_ZMY6Oi99",
        "outputId": "08a806d7-a9e3-4644-fb62-1b372ca30813"
      },
      "source": [
        "# this func creates Doc2VecModel of given docs\n",
        "def create_doc2Vec_model(docs, len_model):\n",
        "    print(\"start creating word2Vec model with length word = \" + str(len_model))\n",
        "    documents = [TaggedDocument(doc, [i]) for i, doc in enumerate(docs)]\n",
        "    model = Doc2Vec(documents, window=3, min_count=1, workers=8, vector_size=len_model)\n",
        "    model.save(model_path+str(len_model))\n",
        "    print(\"model creation finished\")\n",
        "    return\n",
        "\n",
        "\n",
        "# this function loads the implemented word2vec model\n",
        "def loadModel(len_model):\n",
        "    print(\"start loading models...\")\n",
        "    return Doc2Vec.load(model_path+str(len_model))\n",
        "\n",
        "\n",
        "# this func evaluates all given queries \n",
        "def evaluate_queries(queries, model,validation):\n",
        "    labels_prediction = []\n",
        "    temp = 0\n",
        "    for query in queries:\n",
        "      new_queries=model.infer_vector(query) \n",
        "      sims = model.docvecs.most_similar([new_queries]) #top 10 document tags and their cosine similarity\n",
        "      labels_prediction.append(labels[int(sims[0][0])])\n",
        "      # result = []\n",
        "      # for sim in sims :\n",
        "      #   result.append(labels[int(sim[0])])\n",
        "      # group = groupby(result)\n",
        "      # final_tag =  max(group, key=lambda k: len(list(k[1])))\n",
        "      # labels_prediction.append(final_tag[0])\n",
        "      if validation :\n",
        "        gold = labels_validation[temp]\n",
        "        print(\"result doc2vec retrieval : \" + str(labels_prediction[-1])+\"   gold result : \" + str(gold))\n",
        "      # else :\n",
        "      #   print(\"evaluate result \"+str(id_docs_test[temp])+\"  predicted label : \"+str(labels_prediction[-1]))\n",
        "      #   dist_save=20\n",
        "      #   if temp% dist_save == 0 :\n",
        "      #     if (temp ==0):\n",
        "      #       data =  { 'id' : id_docs_test[0] ,'label' : labels_prediction[:] }\n",
        "      #       df = pd.DataFrame(data)\n",
        "      #       df.to_csv(result_path, index=False)\n",
        "      #     else :\n",
        "      #       data =  { 'id' : id_docs_test[temp-dist_save+1:temp+1] ,'label' : labels_prediction[temp-dist_save+1 :] }\n",
        "      #       df = pd.DataFrame(data)\n",
        "      #       df.to_csv(result_path, mode='a',header = None,index=False)\n",
        "      #       print(\">>>> save result from the begining to data number \"+str(id_docs_test[temp]))\n",
        "      # temp += 1\n",
        "    if validation :\n",
        "        print(balanced_accuracy_score(labels_validation,labels_prediction))\n",
        "    return labels_prediction\n",
        "\n",
        "len_model = 400\n",
        "\n",
        "# create Model\n",
        "create_doc2Vec_model(docs, len_model)\n",
        "\n",
        "# load model\n",
        "model = loadModel(len_model)\n",
        "print(\"model with lentgh word = \" + str(len_model))\n",
        "\n",
        "# # make data ready\n",
        "# new_docs = []\n",
        "# counter=0\n",
        "# for doc in id_docs:\n",
        "#     new_doc = []\n",
        "#     for word in docs[counter]:\n",
        "#         if word in model.wv.vocab : new_doc.append(word)\n",
        "#     counter+=1\n",
        "#     new_docs.append(new_doc)\n",
        "\n",
        "# evaluation\n",
        "validation = True\n",
        "labels_prediction = evaluate_queries(docs_validation, model,validation)\n",
        "print(\"evaluation finished... at last !\")\n",
        "if not valiation :\n",
        "  data =  { 'id' : id_docs_test ,'label' : labels_prediction }\n",
        "  df = pd.DataFrame(data)\n",
        "  df.to_csv(result_path, index=False)\n"
      ],
      "execution_count": 16,
      "outputs": [
        {
          "output_type": "stream",
          "text": [
            "start creating word2Vec model with length word = 450\n",
            "model creation finished\n",
            "start loading models...\n",
            "model with lentgh word = 450\n",
            "0.125\n",
            "evaluation finished... at last !\n"
          ],
          "name": "stdout"
        }
      ]
    }
  ]
}