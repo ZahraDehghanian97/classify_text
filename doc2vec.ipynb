{
  "nbformat": 4,
  "nbformat_minor": 0,
  "metadata": {
    "colab": {
      "name": "doc2vec.ipynb",
      "provenance": [],
      "authorship_tag": "ABX9TyP1DEo1P1HWiDbzVusRNU9A",
      "include_colab_link": true
    },
    "kernelspec": {
      "name": "python3",
      "display_name": "Python 3"
    },
    "language_info": {
      "name": "python"
    }
  },
  "cells": [
    {
      "cell_type": "markdown",
      "metadata": {
        "id": "view-in-github",
        "colab_type": "text"
      },
      "source": [
        "<a href=\"https://colab.research.google.com/github/zahraDehghanian97/classify_text/blob/master/doc2vec.ipynb\" target=\"_parent\"><img src=\"https://colab.research.google.com/assets/colab-badge.svg\" alt=\"Open In Colab\"/></a>"
      ]
    },
    {
      "cell_type": "markdown",
      "metadata": {
        "id": "TWheA6CSj3ft"
      },
      "source": [
        "# **Mount google drive**"
      ]
    },
    {
      "cell_type": "code",
      "metadata": {
        "colab": {
          "base_uri": "https://localhost:8080/"
        },
        "id": "9r3444wwj6Mr",
        "outputId": "98f5b88c-03c1-495a-9bd0-847fcf3a3b17"
      },
      "source": [
        "from google.colab import drive\n",
        "drive.mount('/content/drive')"
      ],
      "execution_count": 1,
      "outputs": [
        {
          "output_type": "stream",
          "text": [
            "Mounted at /content/drive\n"
          ],
          "name": "stdout"
        }
      ]
    },
    {
      "cell_type": "markdown",
      "metadata": {
        "id": "YTSvl-QYjyo3"
      },
      "source": [
        "# **prerequisit**"
      ]
    },
    {
      "cell_type": "code",
      "metadata": {
        "id": "m2F_EIyczeua"
      },
      "source": [
        "import pandas as pd\n",
        "import numpy as np\n",
        "from itertools import groupby\n",
        "import re\n",
        "from gensim.models import Doc2Vec \n",
        "from gensim.models.doc2vec import TaggedDocument\n",
        "from sklearn.metrics import balanced_accuracy_score"
      ],
      "execution_count": 30,
      "outputs": []
    },
    {
      "cell_type": "markdown",
      "metadata": {
        "id": "5tmrWx7z1Uce"
      },
      "source": [
        "# **load dataset**"
      ]
    },
    {
      "cell_type": "code",
      "metadata": {
        "id": "SJf9TL43Sk7k"
      },
      "source": [
        "train_path = '/content/drive/MyDrive/Colab Notebooks/labeling_application/train_set.csv'\n",
        "test_path = '/content/drive/MyDrive/Colab Notebooks/labeling_application/test_set.csv'\n",
        "result_path = '/content/drive/MyDrive/Colab Notebooks/labeling_application/prediction_doc2vec2.csv'\n",
        "model_path = '/content/drive/MyDrive/Colab Notebooks/labeling_application/doc2vec.model'\n",
        "stop_path = '/content/drive/MyDrive/Colab Notebooks/labeling_application/stop_word.csv'"
      ],
      "execution_count": 32,
      "outputs": []
    },
    {
      "cell_type": "code",
      "metadata": {
        "id": "tRE6T9PCTueG",
        "colab": {
          "base_uri": "https://localhost:8080/"
        },
        "outputId": "97cbea5a-c48d-4d99-a23d-362c02b9ff88"
      },
      "source": [
        "# this function extract important word of each game\n",
        "def prepare_string(string):\n",
        "    result = []\n",
        "    # remove html tags from string\n",
        "    TAG_RE = re.compile(r'<[^>]+>')\n",
        "    string = TAG_RE.sub('', string)\n",
        "    # remove punctuation mark\n",
        "    string = re.sub(\"[!()@.?؛:،-]\",'', string)\n",
        "    strings=string.split()\n",
        "    # remove stop word\n",
        "    for s in strings : \n",
        "      s = s.strip()\n",
        "      if not s in stop_word.values and s!='' : \n",
        "        result.append(s)\n",
        "    return result\n",
        "\n",
        "# load short list of stop word \n",
        "stop_word = pd.read_csv(stop_path ,header = None, encoding = 'utf8')\n",
        "\n",
        "# load train set\n",
        "docs = []\n",
        "id_docs = []\n",
        "sentences = []\n",
        "word_count = []\n",
        "labels = []\n",
        "train_data = pd.read_csv(train_path, encoding='utf8')\n",
        "for d in train_data.values:\n",
        "    id_docs.append(d[0])\n",
        "    p_string = prepare_string(d[1])\n",
        "    docs.append(p_string)\n",
        "    sentences.extend(p_string)\n",
        "    word_count.append(len(p_string))\n",
        "    labels.append(d[2])\n",
        "distinct_words = list(set(sentences))\n",
        "\n",
        "# # split validation data\n",
        "# id_docs_validation = id_docs[-150:]\n",
        "# id_docs = id_docs[:-150]\n",
        "# docs_validation = docs[-150:]\n",
        "# docs = docs [:-150]\n",
        "# word_count_validation = word_count[-150:]\n",
        "# word_count = word_count[:-150]\n",
        "# labels_validation = labels[-150:]\n",
        "# labels = labels[:-150]\n",
        "\n",
        "\n",
        "# load test set\n",
        "docs_test = []\n",
        "id_docs_test = []\n",
        "test_data = pd.read_csv(test_path, encoding='utf8')\n",
        "for d in test_data.values:\n",
        "    id_docs_test.append(d[0])\n",
        "    docs_test.append(prepare_string(d[1]))\n",
        "\n",
        "print(docs[0])\n",
        "print(id_docs_test[0])"
      ],
      "execution_count": 33,
      "outputs": [
        {
          "output_type": "stream",
          "text": [
            "['بازی', 'مین', 'برنامه', 'فکری', 'باید', 'مین', 'موجود', 'صفحه', 'بازی', 'کشف', 'قابلیت', 'برنامه', 'عبارتند', 'دارای', 'سطوح', 'دشواری', 'آسان', 'سخت', 'امکان', 'تعریف', 'بازی', 'سفارشی', 'نمایش', 'آمار', 'بازی', 'عملکرد', 'ذخیره', 'بازی', 'ناتمام', 'میتوانید', 'آینده', 'قسمت', 'بازی', 'ذخیره', 'مراجعه', 'بازی', 'ادامه', 'دهید', 'سایر', 'برنامه', 'بازی', 'متنوع', 'نیز', 'دیدن', 'سپاسگزارم']\n",
            "40000\n"
          ],
          "name": "stdout"
        }
      ]
    },
    {
      "cell_type": "markdown",
      "metadata": {
        "id": "sH6_KDhEOepb"
      },
      "source": [
        "# **doc2Vec Model**"
      ]
    },
    {
      "cell_type": "code",
      "metadata": {
        "colab": {
          "base_uri": "https://localhost:8080/"
        },
        "id": "QyP_ZMY6Oi99",
        "outputId": "7811dbf8-c713-4743-a06c-173732d43872"
      },
      "source": [
        "# this func creates Doc2VecModel of given docs\n",
        "def create_doc2Vec_model(docs, len_model,save_model):\n",
        "    print(\"start creating doc2Vec model with length word = \" + str(len_model))\n",
        "    documents = [TaggedDocument(doc, [i]) for i, doc in enumerate(docs)]\n",
        "    model = Doc2Vec(documents, window=3, min_count=1, workers=8, vector_size=len_model)\n",
        "    if save_model:\n",
        "      model.save(model_path+str(len_model))\n",
        "    print(\"model creation finished\")\n",
        "    return\n",
        "\n",
        "\n",
        "# this function loads the implemented word2vec model\n",
        "def loadModel(len_model):\n",
        "    print(\"start loading models...\")\n",
        "    return Doc2Vec.load(model_path+str(len_model))\n",
        "\n",
        "\n",
        "# this func evaluates all given queries \n",
        "def evaluate_queries(queries, model,validation):\n",
        "    labels_prediction = []\n",
        "    temp = 0\n",
        "    for query in queries:\n",
        "      new_queries=model.infer_vector(query) \n",
        "      sims = model.docvecs.most_similar([new_queries]) #top 10 document tags and their cosine similarity\n",
        "      # labels_prediction.append(labels[int(sims[0][0])])\n",
        "      result = []\n",
        "      for sim in sims :\n",
        "        result.append(labels[int(sim[0])])\n",
        "      group = groupby(result)\n",
        "      final_tag =  max(group, key=lambda k: len(list(k[1])))\n",
        "      labels_prediction.append(final_tag[0])\n",
        "      # if validation :\n",
        "      #   gold = labels_validation[temp]\n",
        "      #   print(\"result doc2vec retrieval : \" + str(labels_prediction[-1])+\"   gold result : \" + str(gold))\n",
        "      # else :\n",
        "      #   print(\"evaluate result \"+str(id_docs_test[temp])+\"  predicted label : \"+str(labels_prediction[-1]))\n",
        "      temp += 1\n",
        "    if validation :\n",
        "        print(balanced_accuracy_score(labels_validation,labels_prediction))\n",
        "    return labels_prediction\n",
        "\n",
        "len_model = 300\n",
        "\n",
        "# create Model\n",
        "create_doc2Vec_model(docs, len_model,True)\n",
        "\n",
        "# load model\n",
        "model = loadModel(len_model)\n",
        "print(\"model with lentgh word = \" + str(len_model))\n",
        "\n",
        "# evaluation\n",
        "validation = False\n",
        "test_file = docs_test\n",
        "if validation :\n",
        "  test_file = docs_validation\n",
        "labels_prediction = evaluate_queries(test_file, model,validation)\n",
        "print(\"evaluation finished... at last !\")\n",
        "if not validation :\n",
        "  data =  { 'id' : id_docs_test ,'label' : labels_prediction }\n",
        "  df = pd.DataFrame(data)\n",
        "  df.to_csv(result_path, index=False)\n"
      ],
      "execution_count": 35,
      "outputs": [
        {
          "output_type": "stream",
          "text": [
            "start creating doc2Vec model with length word = 300\n",
            "model creation finished\n",
            "start loading models...\n",
            "model with lentgh word = 300\n",
            "evaluation finished... at last !\n"
          ],
          "name": "stdout"
        }
      ]
    },
    {
      "cell_type": "markdown",
      "metadata": {
        "id": "IfecaqthcIjr"
      },
      "source": [
        "find best param"
      ]
    },
    {
      "cell_type": "code",
      "metadata": {
        "colab": {
          "base_uri": "https://localhost:8080/"
        },
        "id": "yRVwndjlcKJL",
        "outputId": "bc0869f5-cfed-4d79-f4e4-4139c5d954a1"
      },
      "source": [
        "\n",
        "len_models  = [200,250,300,325,350,375,400,450,500,550] \n",
        "for len_model in len_models :\n",
        "  # create Model\n",
        "  create_doc2Vec_model(docs, len_model,False)\n",
        "\n",
        "  # # load model\n",
        "  # model = loadModel(len_model)\n",
        "  # print(\"model with lentgh word = \" + str(len_model))\n",
        "\n",
        "  # evaluation\n",
        "  validation = True\n",
        "  test_file = docs_test\n",
        "  if validation :\n",
        "    test_file = docs_validation\n",
        "  labels_prediction = evaluate_queries(test_file, model,validation)"
      ],
      "execution_count": 29,
      "outputs": [
        {
          "output_type": "stream",
          "text": [
            "start creating doc2Vec model with length word = 200\n",
            "model creation finished\n"
          ],
          "name": "stdout"
        },
        {
          "output_type": "stream",
          "text": [
            "/usr/local/lib/python3.7/dist-packages/sklearn/metrics/_classification.py:1859: UserWarning: y_pred contains classes not in y_true\n",
            "  warnings.warn('y_pred contains classes not in y_true')\n"
          ],
          "name": "stderr"
        },
        {
          "output_type": "stream",
          "text": [
            "0.5753633067970496\n",
            "start creating doc2Vec model with length word = 250\n",
            "model creation finished\n",
            "0.600412707865068\n",
            "start creating doc2Vec model with length word = 300\n",
            "model creation finished\n",
            "0.6496947506514673\n",
            "start creating doc2Vec model with length word = 325\n",
            "model creation finished\n",
            "0.5749519421634385\n",
            "start creating doc2Vec model with length word = 350\n",
            "model creation finished\n",
            "0.5707735595335106\n",
            "start creating doc2Vec model with length word = 375\n",
            "model creation finished\n",
            "0.5476104658625187\n",
            "start creating doc2Vec model with length word = 400\n",
            "model creation finished\n",
            "0.5841532642016877\n",
            "start creating doc2Vec model with length word = 450\n",
            "model creation finished\n",
            "0.5480276138537907\n",
            "start creating doc2Vec model with length word = 500\n",
            "model creation finished\n",
            "0.6029696981908165\n",
            "start creating doc2Vec model with length word = 550\n",
            "model creation finished\n",
            "0.5471142164632417\n"
          ],
          "name": "stdout"
        }
      ]
    }
  ]
}