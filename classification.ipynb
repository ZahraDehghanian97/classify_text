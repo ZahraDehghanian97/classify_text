{
  "nbformat": 4,
  "nbformat_minor": 0,
  "metadata": {
    "colab": {
      "name": "classification.ipynb",
      "provenance": [],
      "collapsed_sections": [],
      "authorship_tag": "ABX9TyPWtl4qp2UFtuK+pBuw4l3b",
      "include_colab_link": true
    },
    "kernelspec": {
      "name": "python3",
      "display_name": "Python 3"
    },
    "language_info": {
      "name": "python"
    },
    "accelerator": "GPU"
  },
  "cells": [
    {
      "cell_type": "markdown",
      "metadata": {
        "id": "view-in-github",
        "colab_type": "text"
      },
      "source": [
        "<a href=\"https://colab.research.google.com/github/zahraDehghanian97/classify_text/blob/master/classification.ipynb\" target=\"_parent\"><img src=\"https://colab.research.google.com/assets/colab-badge.svg\" alt=\"Open In Colab\"/></a>"
      ]
    },
    {
      "cell_type": "markdown",
      "metadata": {
        "id": "TWheA6CSj3ft"
      },
      "source": [
        "# **Mount google drive**"
      ]
    },
    {
      "cell_type": "code",
      "metadata": {
        "colab": {
          "base_uri": "https://localhost:8080/"
        },
        "id": "9r3444wwj6Mr",
        "outputId": "9fa8186a-f8e0-4975-d5a0-579b106045d8"
      },
      "source": [
        "from google.colab import drive\n",
        "drive.mount('/content/drive')"
      ],
      "execution_count": 2,
      "outputs": [
        {
          "output_type": "stream",
          "text": [
            "Mounted at /content/drive\n"
          ],
          "name": "stdout"
        }
      ]
    },
    {
      "cell_type": "markdown",
      "metadata": {
        "id": "YTSvl-QYjyo3"
      },
      "source": [
        "# **prerequisit**"
      ]
    },
    {
      "cell_type": "code",
      "metadata": {
        "colab": {
          "base_uri": "https://localhost:8080/"
        },
        "id": "fTSu7FtUSSpn",
        "outputId": "fed1c793-32c5-4884-ac0d-4e26a492d8f5"
      },
      "source": [
        "!pip install hickle"
      ],
      "execution_count": 4,
      "outputs": [
        {
          "output_type": "stream",
          "text": [
            "Requirement already satisfied: hickle in /usr/local/lib/python3.7/dist-packages (4.0.4)\n",
            "Requirement already satisfied: six>=1.11.0 in /usr/local/lib/python3.7/dist-packages (from hickle) (1.15.0)\n",
            "Requirement already satisfied: dill>=0.3.0 in /usr/local/lib/python3.7/dist-packages (from hickle) (0.3.3)\n",
            "Requirement already satisfied: numpy>=1.8 in /usr/local/lib/python3.7/dist-packages (from hickle) (1.19.5)\n",
            "Requirement already satisfied: h5py<3.0.0,>=2.8.0 in /usr/local/lib/python3.7/dist-packages (from hickle) (2.10.0)\n"
          ],
          "name": "stdout"
        }
      ]
    },
    {
      "cell_type": "code",
      "metadata": {
        "id": "m2F_EIyczeua"
      },
      "source": [
        "import nltk as nltk\n",
        "import pandas as pd\n",
        "import numpy as np\n",
        "from itertools import groupby\n",
        "import re\n",
        "import pickle\n",
        "import hickle as hkl\n",
        "from sklearn.metrics import balanced_accuracy_score"
      ],
      "execution_count": 5,
      "outputs": []
    },
    {
      "cell_type": "markdown",
      "metadata": {
        "id": "5tmrWx7z1Uce"
      },
      "source": [
        "# **load dataset**"
      ]
    },
    {
      "cell_type": "code",
      "metadata": {
        "id": "SJf9TL43Sk7k"
      },
      "source": [
        "train_path = '/content/drive/MyDrive/Colab Notebooks/labeling_application/train_set.csv'\n",
        "test_path = '/content/drive/MyDrive/Colab Notebooks/labeling_application/test_set_1.csv'\n",
        "results_path = '/content/drive/MyDrive/Colab Notebooks/labeling_application/result.csv'\n",
        "model_path = '/content/drive/MyDrive/Colab Notebooks/labeling_application/DataModel.txt'\n",
        "TF_path = '/content/drive/MyDrive/Colab Notebooks/labeling_application/TFModel.txt'\n",
        "stop_path = '/content/drive/MyDrive/Colab Notebooks/labeling_application/stop_word.csv'"
      ],
      "execution_count": 2,
      "outputs": []
    },
    {
      "cell_type": "code",
      "metadata": {
        "colab": {
          "base_uri": "https://localhost:8080/"
        },
        "id": "tRE6T9PCTueG",
        "outputId": "2791e10a-8686-4afc-c896-e164b9e66d2b"
      },
      "source": [
        "# this function extract important word of each game\n",
        "def prepare_string(string):\n",
        "    result = []\n",
        "    # remove html tags from string\n",
        "    TAG_RE = re.compile(r'<[^>]+>')\n",
        "    string = TAG_RE.sub('', string)\n",
        "    # remove punctuation mark\n",
        "    string = re.sub(\"[!()@.?؛:،-]\",'', string)\n",
        "    strings=string.split(\" \")\n",
        "    # remove stop word\n",
        "    for s in strings : \n",
        "      if not s in stop_word.values and s!='' : \n",
        "        result.append(s)\n",
        "    return result\n",
        "\n",
        "# load short list of stop word \n",
        "stop_word = pd.read_csv(stop_path ,header = None, encoding = 'utf8')\n",
        "\n",
        "# load train set\n",
        "docs = []\n",
        "id_docs = []\n",
        "sentences = []\n",
        "word_count = []\n",
        "labels = []\n",
        "train_data = pd.read_csv(train_path, encoding='utf8')\n",
        "for d in train_data.values:\n",
        "    id_docs.append(d[0])\n",
        "    p_string = prepare_string(d[1])\n",
        "    docs.append(p_string)\n",
        "    sentences.extend(p_string)\n",
        "    word_count.append(len(p_string))\n",
        "    labels.append(d[2])\n",
        "distinct_words = list(set(sentences))\n",
        "\n",
        "# split validation data\n",
        "id_docs_validation = id_docs[-150:]\n",
        "id_docs = id_docs[:-150]\n",
        "docs_validation = docs[-150:]\n",
        "docs = docs [:-150]\n",
        "word_count_validation = word_count[-150:]\n",
        "word_count = word_count[:-150]\n",
        "labels_validation = labels[-150:]\n",
        "labels = labels[:-150]\n",
        "\n",
        "# # load test set\n",
        "# docs_test = []\n",
        "# id_docs_test = []\n",
        "# test_data = pd.read_csv(test_path, encoding='utf8')\n",
        "# for d in test_data.values:\n",
        "#     id_docs_test.append(d[0])\n",
        "#     docs_test.append(prepare_string(d[1]))\n",
        "\n",
        "print(\"parsing files finished\")"
      ],
      "execution_count": 6,
      "outputs": [
        {
          "output_type": "stream",
          "text": [
            "parsing files finished\n"
          ],
          "name": "stdout"
        }
      ]
    },
    {
      "cell_type": "markdown",
      "metadata": {
        "id": "roNsIKE3pmiV"
      },
      "source": [
        "# **TF-IDF**"
      ]
    },
    {
      "cell_type": "code",
      "metadata": {
        "id": "9Ja4SgpL1ZCY"
      },
      "source": [
        "# this function calculates term frequency per doc\n",
        "def calculate_TF(TF_array, docs, distinct_words):\n",
        "    docID = 0\n",
        "    for doc in docs:\n",
        "        for word in doc:\n",
        "            i, = np.where(distinct_words == word)\n",
        "            TF_array[i, docID] += 1\n",
        "        docID += 1\n",
        "        # print(\"compute TF array for \"+str(docID)+\" docs\")\n",
        "    return\n",
        "\n",
        "\n",
        "# this function calculate CF of each word in all file\n",
        "def calculate_CF(CF, distinct, text):\n",
        "    len_CF=len(CF)\n",
        "    for i in range(len(CF)):\n",
        "        for j in range(len(text)):\n",
        "            CF[i] += text[j].count(distinct[i])\n",
        "        # print( i , len_CF , distinct[i] , CF[i])\n",
        "\n",
        "\n",
        "\n",
        "distinct_words = np.transpose(distinct_words)\n",
        "CF = np.zeros([np.shape(distinct_words)[0], 1])\n",
        "TF_array = np.zeros([np.shape(distinct_words)[0], np.shape(id_docs)[0]])\n",
        "calculate_CF(CF, distinct_words, docs )\n",
        "print(\"calculating CF finished\")\n",
        "calculate_TF(TF_array, docs, distinct_words)\n",
        "print(\"calculate TF finished\")\n",
        "# with open(model_path, 'wb') as f:\n",
        "#     pickle.dump((id_docs, docs, distinct_words, word_count,labels , CF, id_docs_test, docs_test), f)\n",
        "# hkl.dump(TF_array, TF_path)\n",
        "# print(\"built pickle file\")"
      ],
      "execution_count": null,
      "outputs": []
    },
    {
      "cell_type": "markdown",
      "metadata": {
        "id": "CQL4y3lHScJt"
      },
      "source": [
        "# **Unigram Model**"
      ]
    },
    {
      "cell_type": "code",
      "metadata": {
        "id": "CJfr3PVWSbvx"
      },
      "source": [
        "# load data model \n",
        "u_coefficient = 50\n",
        "# with open(model_path, \"rb\") as f:\n",
        "#     id_docs, docs, distinct_words, word_count ,labels, CF, id_docs_test, docs_test = pickle.load(f)\n",
        "# TF_array = hkl.load(TF_path)\n",
        "corpus_size = np.sum(word_count)\n",
        "print(\"load files finished\")\n"
      ],
      "execution_count": null,
      "outputs": []
    },
    {
      "cell_type": "code",
      "metadata": {
        "colab": {
          "base_uri": "https://localhost:8080/",
          "height": 201
        },
        "id": "ax4qn-kPThAj",
        "outputId": "f06e4eb2-c3c1-438b-951b-06cad2b208fc"
      },
      "source": [
        "# this func chooses a subsample of TF array for given query\n",
        "def createTFForQuery(query_terms):\n",
        "    idx = 0\n",
        "    TempTF = []\n",
        "    for word in distinct_words:\n",
        "        if word in query_terms:\n",
        "            TempTF.append(TF_array[idx, :])\n",
        "        idx += 1\n",
        "    return TempTF\n",
        "\n",
        "\n",
        "# this function calculates similarity of one query with given document\n",
        "def sim_of_query_to_doc(docID, tempTF):\n",
        "    similarity = 1\n",
        "    tmp = 0\n",
        "    row = np.shape(tempTF)[0]\n",
        "    for i in range(0, row):\n",
        "        if (CF[i] > 0):\n",
        "            tmp = 1\n",
        "            arg = (tempTF[i][docID] + ((u_coefficient * CF[i]) / corpus_size)) / (word_count[docID] + u_coefficient)\n",
        "            similarity *= arg\n",
        "    if (tmp == 0):\n",
        "        similarity = 0\n",
        "    return similarity\n",
        "\n",
        "\n",
        "# this function returns the ranked documents according to given query\n",
        "def evalOneQuery(query_terms):\n",
        "    indx = 0\n",
        "    results = []\n",
        "    # print(\"query is: \")\n",
        "    # print(query_terms)\n",
        "    tempTF = createTFForQuery(query_terms)\n",
        "    for doc in id_docs:\n",
        "        similarity = sim_of_query_to_doc(indx, tempTF)\n",
        "        results.append((doc, similarity))\n",
        "        indx += 1\n",
        "    return sorted(results, key=lambda t: t[1], reverse=True)\n",
        "\n",
        "\n",
        "\n",
        "# this func evaluates all given queries with given precisions (@k)\n",
        "def evaluate_queries(queries,validation):\n",
        "    labels_prediction = []\n",
        "    temp = 0\n",
        "    for query in queries:\n",
        "        res = evalOneQuery(query)\n",
        "        result = []\n",
        "        for r in res[:10]:\n",
        "            result.append(labels[r[0]])\n",
        "        group = groupby(result)\n",
        "        final_tag =  max(group, key=lambda k: len(list(k[1])))\n",
        "        gold = labels_validation[temp]\n",
        "        print(\"result TF-IDF retrieval : \" + str(final_tag[0])+\"   gold result : \" + str(gold))\n",
        "        labels_prediction.append(final_tag[0])\n",
        "        temp += 1\n",
        "    if validation :\n",
        "        print(balanced_accuracy_score(labels_validation,labels_prediction))\n",
        "    else :\n",
        "        data =  { 'id' : id_docs_test ,\n",
        "                  'label' : labels_prediction }\n",
        "        df = pd.dataFrame(data)\n",
        "        df.to_csv('/content/drive/MyDrive/Colab Notebooks/labeling_application/prediction.csv')\n",
        "    return\n",
        "\n",
        "evaluate_queries(docs_validation,True)"
      ],
      "execution_count": 1,
      "outputs": [
        {
          "output_type": "error",
          "ename": "NameError",
          "evalue": "ignored",
          "traceback": [
            "\u001b[0;31m---------------------------------------------------------------------------\u001b[0m",
            "\u001b[0;31mNameError\u001b[0m                                 Traceback (most recent call last)",
            "\u001b[0;32m<ipython-input-1-a9f276ff5889>\u001b[0m in \u001b[0;36m<module>\u001b[0;34m()\u001b[0m\n\u001b[1;32m     64\u001b[0m     \u001b[0;32mreturn\u001b[0m\u001b[0;34m\u001b[0m\u001b[0;34m\u001b[0m\u001b[0m\n\u001b[1;32m     65\u001b[0m \u001b[0;34m\u001b[0m\u001b[0m\n\u001b[0;32m---> 66\u001b[0;31m \u001b[0mevaluate_queries\u001b[0m\u001b[0;34m(\u001b[0m\u001b[0mdocs_validation\u001b[0m\u001b[0;34m,\u001b[0m\u001b[0;32mTrue\u001b[0m\u001b[0;34m)\u001b[0m\u001b[0;34m\u001b[0m\u001b[0;34m\u001b[0m\u001b[0m\n\u001b[0m",
            "\u001b[0;31mNameError\u001b[0m: name 'docs_validation' is not defined"
          ]
        }
      ]
    }
  ]
}