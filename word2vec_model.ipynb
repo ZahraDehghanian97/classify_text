{
  "nbformat": 4,
  "nbformat_minor": 0,
  "metadata": {
    "colab": {
      "name": "word2vec_model.ipynb",
      "provenance": [],
      "mount_file_id": "1Hxxq8OqP9O6RV2OLZgTYAMcBcxPIswGu",
      "authorship_tag": "ABX9TyOeidj1F5hRH9xtYMvtUpO3",
      "include_colab_link": true
    },
    "kernelspec": {
      "display_name": "Python 3",
      "name": "python3"
    },
    "language_info": {
      "name": "python"
    }
  },
  "cells": [
    {
      "cell_type": "markdown",
      "metadata": {
        "id": "view-in-github",
        "colab_type": "text"
      },
      "source": [
        "<a href=\"https://colab.research.google.com/github/zahraDehghanian97/classify_text/blob/master/word2vec_model.ipynb\" target=\"_parent\"><img src=\"https://colab.research.google.com/assets/colab-badge.svg\" alt=\"Open In Colab\"/></a>"
      ]
    },
    {
      "cell_type": "markdown",
      "metadata": {
        "id": "TWheA6CSj3ft"
      },
      "source": [
        "# **Mount google drive**"
      ]
    },
    {
      "cell_type": "code",
      "metadata": {
        "colab": {
          "base_uri": "https://localhost:8080/"
        },
        "id": "9r3444wwj6Mr",
        "outputId": "8f365ded-d11c-49e0-a738-237c3a09d2da"
      },
      "source": [
        "from google.colab import drive\n",
        "drive.mount('/content/drive')"
      ],
      "execution_count": 1,
      "outputs": [
        {
          "output_type": "stream",
          "text": [
            "Drive already mounted at /content/drive; to attempt to forcibly remount, call drive.mount(\"/content/drive\", force_remount=True).\n"
          ],
          "name": "stdout"
        }
      ]
    },
    {
      "cell_type": "markdown",
      "metadata": {
        "id": "YTSvl-QYjyo3"
      },
      "source": [
        "# **prerequisit**"
      ]
    },
    {
      "cell_type": "code",
      "metadata": {
        "id": "m2F_EIyczeua"
      },
      "source": [
        "import pandas as pd\n",
        "import numpy as np\n",
        "from itertools import groupby\n",
        "import re\n",
        "from gensim.models import Word2Vec\n",
        "from sklearn.metrics import balanced_accuracy_score"
      ],
      "execution_count": 1,
      "outputs": []
    },
    {
      "cell_type": "markdown",
      "metadata": {
        "id": "5tmrWx7z1Uce"
      },
      "source": [
        "# **load dataset**"
      ]
    },
    {
      "cell_type": "code",
      "metadata": {
        "id": "SJf9TL43Sk7k"
      },
      "source": [
        "train_path = '/content/drive/MyDrive/Colab Notebooks/labeling_application/train_set.csv'\n",
        "test_path = '/content/drive/MyDrive/Colab Notebooks/labeling_application/test_set.csv'\n",
        "result_path = '/content/drive/MyDrive/Colab Notebooks/labeling_application/prediction3.csv'\n",
        "model_path = '/content/drive/MyDrive/Colab Notebooks/labeling_application/word2vec.model'\n",
        "stop_path = '/content/drive/MyDrive/Colab Notebooks/labeling_application/stop_word.csv'"
      ],
      "execution_count": 13,
      "outputs": []
    },
    {
      "cell_type": "code",
      "metadata": {
        "id": "tRE6T9PCTueG"
      },
      "source": [
        "# this function extract important word of each game\n",
        "def prepare_string(string):\n",
        "    result = []\n",
        "    # remove html tags from string\n",
        "    TAG_RE = re.compile(r'<[^>]+>')\n",
        "    string = TAG_RE.sub('', string)\n",
        "    # remove punctuation mark\n",
        "    string = re.sub(\"[!()@.?؛:،-]\",'', string)\n",
        "    strings=string.split()\n",
        "    # remove stop word\n",
        "    for s in strings : \n",
        "      s = s.strip()\n",
        "      if not s in stop_word.values and s!='' : \n",
        "        result.append(s)\n",
        "    return result\n",
        "\n",
        "# load short list of stop word \n",
        "stop_word = pd.read_csv(stop_path ,header = None, encoding = 'utf8')\n",
        "\n",
        "# load train set\n",
        "docs = []\n",
        "id_docs = []\n",
        "sentences = []\n",
        "word_count = []\n",
        "labels = []\n",
        "train_data = pd.read_csv(train_path, encoding='utf8')\n",
        "for d in train_data.values:\n",
        "    id_docs.append(d[0])\n",
        "    p_string = prepare_string(d[1])\n",
        "    docs.append(p_string)\n",
        "    sentences.extend(p_string)\n",
        "    word_count.append(len(p_string))\n",
        "    labels.append(d[2])\n",
        "distinct_words = list(set(sentences))\n",
        "\n",
        "# # split validation data\n",
        "# id_docs_validation = id_docs[-150:]\n",
        "# id_docs = id_docs[:-150]\n",
        "# docs_validation = docs[-150:]\n",
        "# docs = docs [:-150]\n",
        "# word_count_validation = word_count[-150:]\n",
        "# word_count = word_count[:-150]\n",
        "# labels_validation = labels[-150:]\n",
        "# labels = labels[:-150]\n",
        "\n",
        "\n",
        "# load test set\n",
        "docs_test = []\n",
        "id_docs_test = []\n",
        "test_data = pd.read_csv(test_path, encoding='utf8')\n",
        "for d in test_data.values:\n",
        "    id_docs_test.append(d[0])\n",
        "    docs_test.append(prepare_string(d[1]))\n",
        "\n",
        "# print(docs[0])\n",
        "# print(id_docs_test[0])"
      ],
      "execution_count": 15,
      "outputs": []
    },
    {
      "cell_type": "markdown",
      "metadata": {
        "id": "sH6_KDhEOepb"
      },
      "source": [
        "# **word2Vec Model**"
      ]
    },
    {
      "cell_type": "code",
      "metadata": {
        "colab": {
          "base_uri": "https://localhost:8080/"
        },
        "id": "QyP_ZMY6Oi99",
        "outputId": "009b869b-ab48-4434-e7a8-acbb9e1531f2"
      },
      "source": [
        "# this func creates word2VecModel of given docs\n",
        "def create_word2Vec_model(docs, len_model):\n",
        "    print(\"start creating word2Vec model with length word = \" + str(len_model))\n",
        "    model = Word2Vec(docs, window=3, min_count=1, workers=8, size=len_model)\n",
        "    model.save(model_path+str(len_model))\n",
        "    print(\"model creation finished\")\n",
        "    return\n",
        "\n",
        "\n",
        "# this function loads the implemented word2vec model\n",
        "def loadModel(len_model):\n",
        "    print(\"start loading models...\")\n",
        "    return Word2Vec.load(model_path+str(len_model))\n",
        "\n",
        "\n",
        "# this func is used to evaluate similarity between a query and all docs and return sorted docs\n",
        "def findSimilar(query_terms, model):\n",
        "    results = []\n",
        "    new_query = []\n",
        "    for q in query_terms :\n",
        "        if q in model.wv.vocab : new_query.append(q)\n",
        "    counter=0\n",
        "    for doc in id_docs:\n",
        "        similarity = model.wv.n_similarity(new_query,new_docs[counter])\n",
        "        counter+=1\n",
        "        results.append((doc, similarity))\n",
        "    return sorted(results, key=lambda t: t[1], reverse=True)\n",
        "\n",
        "\n",
        "# this func evaluates all given queries with given precisions (@k)\n",
        "def evaluate_queries(queries, model,validation):\n",
        "    labels_prediction = []\n",
        "    temp = 0\n",
        "    for query in queries:\n",
        "        res = findSimilar(query, model)\n",
        "        labels_prediction.append(labels[res[0][0]])\n",
        "\n",
        "        # result = []\n",
        "        # for r in res[:10]:\n",
        "        #     result.append(labels[r[0]])\n",
        "        # group = groupby(result)\n",
        "        # final_tag =  max(group, key=lambda k: len(list(k[1])))\n",
        "        # labels_prediction.append(final_tag[0])\n",
        "\n",
        "        if validation :\n",
        "          gold = labels_validation[temp]\n",
        "          print(\"result word2vec retrieval : \" + str(labels_prediction[-1])+\"   gold result : \" + str(gold))\n",
        "        else :\n",
        "          print(\"evaluate result \"+str(id_docs_test[temp])+\"  predicted label : \"+str(labels_prediction[-1]))\n",
        "          dist_save=20\n",
        "          if temp% dist_save == 0 :\n",
        "            if (temp ==0):\n",
        "              data =  { 'id' : id_docs_test[0] ,'label' : labels_prediction[:] }\n",
        "              df = pd.DataFrame(data)\n",
        "              df.to_csv(result_path, index=False)\n",
        "            else :\n",
        "              data =  { 'id' : id_docs_test[temp-dist_save+1:temp+1] ,'label' : labels_prediction[temp-dist_save+1 :] }\n",
        "              df = pd.DataFrame(data)\n",
        "              df.to_csv(result_path, mode='a',header = None,index=False)\n",
        "              print(\">>>> save result from the begining to data number \"+str(id_docs_test[temp]))\n",
        "        temp += 1\n",
        "    if validation :\n",
        "        print(balanced_accuracy_score(labels_validation,labels_prediction))\n",
        "    return labels_prediction\n",
        "\n",
        "len_model = 200\n",
        "\n",
        "# # create Model\n",
        "create_word2Vec_model(docs, len_model)\n",
        "\n",
        "# load model\n",
        "model = loadModel(len_model)\n",
        "print(\"model with lentgh word = \" + str(len_model))\n",
        "\n",
        "# make data ready\n",
        "new_docs = []\n",
        "counter=0\n",
        "for doc in id_docs:\n",
        "    new_doc = []\n",
        "    for word in docs[counter]:\n",
        "        if word in model.wv.vocab : new_doc.append(word)\n",
        "    counter+=1\n",
        "    new_docs.append(new_doc)\n",
        "\n",
        "# evaluation\n",
        "validation = False\n",
        "labels_prediction = evaluate_queries(docs_test, model,validation)\n",
        "print(\"evaluation finished... at last !\")\n",
        "\n"
      ],
      "execution_count": null,
      "outputs": [
        {
          "output_type": "stream",
          "text": [
            "start creating word2Vec model with length word = 200\n",
            "model creation finished\n",
            "start loading models...\n",
            "model with lentgh word = 200\n",
            "evaluate result 40000  predicted label : 6\n",
            "evaluate result 40001  predicted label : 1\n",
            "evaluate result 40002  predicted label : 5\n",
            "evaluate result 40003  predicted label : 9\n",
            "evaluate result 40004  predicted label : 3\n",
            "evaluate result 40005  predicted label : 2\n",
            "evaluate result 40006  predicted label : 2\n",
            "evaluate result 40007  predicted label : 9\n",
            "evaluate result 40008  predicted label : 9\n",
            "evaluate result 40009  predicted label : 3\n",
            "evaluate result 40010  predicted label : 9\n",
            "evaluate result 40011  predicted label : 4\n",
            "evaluate result 40012  predicted label : 2\n",
            "evaluate result 40013  predicted label : 9\n",
            "evaluate result 40014  predicted label : 5\n",
            "evaluate result 40015  predicted label : 3\n",
            "evaluate result 40016  predicted label : 2\n",
            "evaluate result 40017  predicted label : 8\n",
            "evaluate result 40018  predicted label : 2\n",
            "evaluate result 40019  predicted label : 9\n",
            "evaluate result 40020  predicted label : 3\n",
            "evaluate result 40021  predicted label : 3\n",
            "evaluate result 40022  predicted label : 5\n",
            "evaluate result 40023  predicted label : 2\n",
            "evaluate result 40024  predicted label : 6\n",
            "evaluate result 40025  predicted label : 8\n",
            "evaluate result 40026  predicted label : 2\n",
            "evaluate result 40027  predicted label : 4\n",
            "evaluate result 40028  predicted label : 4\n",
            "evaluate result 40029  predicted label : 9\n",
            "evaluate result 40030  predicted label : 9\n",
            "evaluate result 40031  predicted label : 2\n",
            "evaluate result 40032  predicted label : 9\n",
            "evaluate result 40033  predicted label : 5\n",
            "evaluate result 40034  predicted label : 9\n"
          ],
          "name": "stdout"
        }
      ]
    }
  ]
}