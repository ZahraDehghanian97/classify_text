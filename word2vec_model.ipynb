{
  "nbformat": 4,
  "nbformat_minor": 0,
  "metadata": {
    "colab": {
      "name": "word2vec_model.ipynb",
      "provenance": [],
      "authorship_tag": "ABX9TyOew0QkYDB627PinSLlBDNO",
      "include_colab_link": true
    },
    "kernelspec": {
      "name": "python3",
      "display_name": "Python 3"
    },
    "language_info": {
      "name": "python"
    }
  },
  "cells": [
    {
      "cell_type": "markdown",
      "metadata": {
        "id": "view-in-github",
        "colab_type": "text"
      },
      "source": [
        "<a href=\"https://colab.research.google.com/github/zahraDehghanian97/classify_text/blob/master/word2vec_model.ipynb\" target=\"_parent\"><img src=\"https://colab.research.google.com/assets/colab-badge.svg\" alt=\"Open In Colab\"/></a>"
      ]
    },
    {
      "cell_type": "markdown",
      "metadata": {
        "id": "TWheA6CSj3ft"
      },
      "source": [
        "# **Mount google drive**"
      ]
    },
    {
      "cell_type": "code",
      "metadata": {
        "colab": {
          "base_uri": "https://localhost:8080/"
        },
        "id": "9r3444wwj6Mr",
        "outputId": "b5accdc3-a886-448a-f097-3dc5ee64cef8"
      },
      "source": [
        "from google.colab import drive\n",
        "drive.mount('/content/drive')"
      ],
      "execution_count": 1,
      "outputs": [
        {
          "output_type": "stream",
          "text": [
            "Mounted at /content/drive\n"
          ],
          "name": "stdout"
        }
      ]
    },
    {
      "cell_type": "markdown",
      "metadata": {
        "id": "YTSvl-QYjyo3"
      },
      "source": [
        "# **prerequisit**"
      ]
    },
    {
      "cell_type": "code",
      "metadata": {
        "id": "m2F_EIyczeua"
      },
      "source": [
        "import pandas as pd\n",
        "import numpy as np\n",
        "from itertools import groupby\n",
        "import re\n",
        "from gensim.models import Word2Vec\n",
        "from sklearn.metrics import balanced_accuracy_score"
      ],
      "execution_count": 5,
      "outputs": []
    },
    {
      "cell_type": "markdown",
      "metadata": {
        "id": "5tmrWx7z1Uce"
      },
      "source": [
        "# **load dataset**"
      ]
    },
    {
      "cell_type": "code",
      "metadata": {
        "id": "SJf9TL43Sk7k"
      },
      "source": [
        "train_path = '/content/drive/MyDrive/Colab Notebooks/labeling_application/train_set.csv'\n",
        "test_path = '/content/drive/MyDrive/Colab Notebooks/labeling_application/test_set.csv'\n",
        "result_path = '/content/drive/MyDrive/Colab Notebooks/labeling_application/prediction.csv'\n",
        "model_path = '/content/drive/MyDrive/Colab Notebooks/labeling_application/word2vec.model'\n",
        "stop_path = '/content/drive/MyDrive/Colab Notebooks/labeling_application/stop_word.csv'"
      ],
      "execution_count": 16,
      "outputs": []
    },
    {
      "cell_type": "code",
      "metadata": {
        "id": "tRE6T9PCTueG",
        "colab": {
          "base_uri": "https://localhost:8080/"
        },
        "outputId": "7415abc4-51d9-4522-af5b-1989a88399be"
      },
      "source": [
        "# this function extract important word of each game\n",
        "def prepare_string(string):\n",
        "    result = []\n",
        "    # remove html tags from string\n",
        "    TAG_RE = re.compile(r'<[^>]+>')\n",
        "    string = TAG_RE.sub('', string)\n",
        "    # remove punctuation mark\n",
        "    string = re.sub(\"[!()@.?؛:،-]\",'', string)\n",
        "    strings=string.split()\n",
        "    # remove stop word\n",
        "    for s in strings : \n",
        "      if not s in stop_word.values and s!='' : \n",
        "        result.append(s)\n",
        "    return result\n",
        "\n",
        "# load short list of stop word \n",
        "stop_word = pd.read_csv(stop_path ,header = None, encoding = 'utf8')\n",
        "\n",
        "# load train set\n",
        "docs = []\n",
        "id_docs = []\n",
        "sentences = []\n",
        "word_count = []\n",
        "labels = []\n",
        "train_data = pd.read_csv(train_path, encoding='utf8')\n",
        "for d in train_data.values:\n",
        "    id_docs.append(d[0])\n",
        "    p_string = prepare_string(d[1])\n",
        "    docs.append(p_string)\n",
        "    sentences.extend(p_string)\n",
        "    word_count.append(len(p_string))\n",
        "    labels.append(d[2])\n",
        "distinct_words = list(set(sentences))\n",
        "\n",
        "# split validation data\n",
        "id_docs_validation = id_docs[-150:]\n",
        "id_docs = id_docs[:-150]\n",
        "docs_validation = docs[-150:]\n",
        "docs = docs [:-150]\n",
        "word_count_validation = word_count[-150:]\n",
        "word_count = word_count[:-150]\n",
        "labels_validation = labels[-150:]\n",
        "labels = labels[:-150]\n",
        "\n",
        "\n",
        "# load test set\n",
        "docs_test = []\n",
        "id_docs_test = []\n",
        "test_data = pd.read_csv(test_path, encoding='utf8')\n",
        "for d in test_data.values:\n",
        "    id_docs_test.append(d[0])\n",
        "    docs_test.append(prepare_string(d[1]))\n",
        "\n",
        "print(docs[0])\n",
        "print(\"parsing files finished\")"
      ],
      "execution_count": 17,
      "outputs": [
        {
          "output_type": "stream",
          "text": [
            "parsing files finished\n"
          ],
          "name": "stdout"
        }
      ]
    },
    {
      "cell_type": "markdown",
      "metadata": {
        "id": "sH6_KDhEOepb"
      },
      "source": [
        "# **word2Vec Model**"
      ]
    },
    {
      "cell_type": "code",
      "metadata": {
        "colab": {
          "base_uri": "https://localhost:8080/"
        },
        "id": "QyP_ZMY6Oi99",
        "outputId": "25711e58-b251-473e-c26f-726ce4b3d51b"
      },
      "source": [
        "# this func creates word2VecModel of given docs\n",
        "def create_word2Vec_model(docs, len_word):\n",
        "    print(\"start creating word2Vec model with length word = \" + str(len_word))\n",
        "    model = Word2Vec(docs, window=3, min_count=1, workers=7, size=len_word)\n",
        "    model.save(model_path)\n",
        "    print(\"model creation finished\")\n",
        "    return\n",
        "\n",
        "\n",
        "# this function loads the implemented word2vec model\n",
        "def loadModel(len_model):\n",
        "    print(\"start loading models...\")\n",
        "    return Word2Vec.load(model_path)\n",
        "\n",
        "\n",
        "# this func is used to evaluate similarity between a query and all docs and return sorted docs\n",
        "def findSimilar(query_terms, model):\n",
        "    results = []\n",
        "    counter=0\n",
        "    new_query = []\n",
        "    for q in query_terms :\n",
        "        if q in model.wv.vocab : new_query.append(q)\n",
        "    for doc in id_docs:\n",
        "        new_doc = []\n",
        "        for word in docs[counter]:\n",
        "            if word in model.wv.vocab : new_doc.append(word)\n",
        "        similarity = model.wv.n_similarity(new_query,new_doc)\n",
        "        results.append((doc, similarity))\n",
        "        counter+=1\n",
        "    return sorted(results, key=lambda t: t[1], reverse=True)\n",
        "\n",
        "\n",
        "# this func evaluates all given queries with given precisions (@k)\n",
        "def evaluate_queries(queries, model,validation):\n",
        "    labels_prediction = []\n",
        "    temp = 0\n",
        "    for query in queries:\n",
        "        res = findSimilar(query, model)\n",
        "        result = []\n",
        "        for r in res[:10]:\n",
        "            result.append(labels[r[0]])\n",
        "        group = groupby(result)\n",
        "        final_tag =  max(group, key=lambda k: len(list(k[1])))\n",
        "        labels_prediction.append(final_tag[0])\n",
        "        temp += 1\n",
        "        if validation :\n",
        "          gold = labels_validation[temp]\n",
        "          print(\"result word2vec retrieval : \" + str(final_tag[0])+\"   gold result : \" + str(gold))\n",
        "    if validation :\n",
        "        print(balanced_accuracy_score(labels_validation,labels_prediction))\n",
        "    else :\n",
        "        data =  { 'id' : id_docs_test ,\n",
        "                  'label' : labels_prediction }\n",
        "        df = pd.dataFrame(data)\n",
        "        df.to_csv(result_path)\n",
        "    return\n",
        "\n",
        "len_model = 300\n",
        "\n",
        "# # create Model\n",
        "create_word2Vec_model(docs, len_model)\n",
        "\n",
        "# load model\n",
        "model = loadModel(len_model)\n",
        "print(\"model with lentgh word = \" + str(len_model))\n",
        "\n",
        "# evaluation\n",
        "evaluate_queries(docs_validation, model,True)\n",
        "    \n"
      ],
      "execution_count": 19,
      "outputs": [
        {
          "output_type": "stream",
          "text": [
            "start creating word2Vec model with length word = 200\n",
            "model creation finished\n",
            "start loading models...\n",
            "model with lentgh word = 200\n",
            "result word2vec retrieval : 1   gold result : 1\n",
            "result word2vec retrieval : 7   gold result : 7\n",
            "result word2vec retrieval : 2   gold result : 5\n",
            "result word2vec retrieval : 0   gold result : 7\n",
            "result word2vec retrieval : 6   gold result : 7\n",
            "result word2vec retrieval : 2   gold result : 2\n",
            "result word2vec retrieval : 6   gold result : 1\n",
            "result word2vec retrieval : 2   gold result : 2\n",
            "result word2vec retrieval : 2   gold result : 2\n",
            "result word2vec retrieval : 7   gold result : 7\n",
            "result word2vec retrieval : 4   gold result : 2\n",
            "result word2vec retrieval : 3   gold result : 3\n",
            "result word2vec retrieval : 1   gold result : 1\n",
            "result word2vec retrieval : 2   gold result : 2\n",
            "result word2vec retrieval : 5   gold result : 5\n",
            "result word2vec retrieval : 3   gold result : 3\n",
            "result word2vec retrieval : 2   gold result : 2\n",
            "result word2vec retrieval : 1   gold result : 1\n",
            "result word2vec retrieval : 0   gold result : 8\n",
            "result word2vec retrieval : 1   gold result : 1\n",
            "result word2vec retrieval : 8   gold result : 8\n",
            "result word2vec retrieval : 5   gold result : 5\n",
            "result word2vec retrieval : 8   gold result : 8\n",
            "result word2vec retrieval : 8   gold result : 8\n",
            "result word2vec retrieval : 0   gold result : 8\n",
            "result word2vec retrieval : 7   gold result : 7\n",
            "result word2vec retrieval : 8   gold result : 8\n",
            "result word2vec retrieval : 4   gold result : 3\n",
            "result word2vec retrieval : 8   gold result : 8\n",
            "result word2vec retrieval : 7   gold result : 1\n",
            "result word2vec retrieval : 7   gold result : 7\n",
            "result word2vec retrieval : 8   gold result : 8\n",
            "result word2vec retrieval : 8   gold result : 8\n",
            "result word2vec retrieval : 7   gold result : 5\n",
            "result word2vec retrieval : 5   gold result : 3\n",
            "result word2vec retrieval : 1   gold result : 1\n",
            "result word2vec retrieval : 6   gold result : 3\n",
            "result word2vec retrieval : 3   gold result : 3\n",
            "result word2vec retrieval : 8   gold result : 8\n",
            "result word2vec retrieval : 3   gold result : 3\n",
            "result word2vec retrieval : 1   gold result : 1\n",
            "result word2vec retrieval : 1   gold result : 1\n",
            "result word2vec retrieval : 8   gold result : 8\n",
            "result word2vec retrieval : 3   gold result : 3\n",
            "result word2vec retrieval : 5   gold result : 1\n",
            "result word2vec retrieval : 8   gold result : 8\n",
            "result word2vec retrieval : 7   gold result : 7\n",
            "result word2vec retrieval : 1   gold result : 1\n",
            "result word2vec retrieval : 8   gold result : 8\n",
            "result word2vec retrieval : 1   gold result : 1\n",
            "result word2vec retrieval : 4   gold result : 3\n",
            "result word2vec retrieval : 4   gold result : 3\n",
            "result word2vec retrieval : 4   gold result : 3\n",
            "result word2vec retrieval : 7   gold result : 7\n",
            "result word2vec retrieval : 1   gold result : 1\n",
            "result word2vec retrieval : 8   gold result : 8\n",
            "result word2vec retrieval : 1   gold result : 1\n",
            "result word2vec retrieval : 4   gold result : 3\n",
            "result word2vec retrieval : 8   gold result : 8\n",
            "result word2vec retrieval : 8   gold result : 8\n",
            "result word2vec retrieval : 1   gold result : 1\n",
            "result word2vec retrieval : 3   gold result : 3\n",
            "result word2vec retrieval : 3   gold result : 5\n",
            "result word2vec retrieval : 7   gold result : 7\n",
            "result word2vec retrieval : 7   gold result : 7\n",
            "result word2vec retrieval : 7   gold result : 7\n",
            "result word2vec retrieval : 0   gold result : 7\n",
            "result word2vec retrieval : 1   gold result : 1\n",
            "result word2vec retrieval : 7   gold result : 7\n",
            "result word2vec retrieval : 0   gold result : 5\n",
            "result word2vec retrieval : 6   gold result : 7\n",
            "result word2vec retrieval : 0   gold result : 7\n",
            "result word2vec retrieval : 7   gold result : 7\n",
            "result word2vec retrieval : 6   gold result : 1\n",
            "result word2vec retrieval : 5   gold result : 1\n",
            "result word2vec retrieval : 7   gold result : 7\n",
            "result word2vec retrieval : 1   gold result : 5\n",
            "result word2vec retrieval : 5   gold result : 1\n",
            "result word2vec retrieval : 7   gold result : 7\n",
            "result word2vec retrieval : 7   gold result : 7\n",
            "result word2vec retrieval : 0   gold result : 7\n",
            "result word2vec retrieval : 8   gold result : 7\n",
            "result word2vec retrieval : 4   gold result : 1\n",
            "result word2vec retrieval : 7   gold result : 7\n",
            "result word2vec retrieval : 7   gold result : 7\n",
            "result word2vec retrieval : 6   gold result : 1\n",
            "result word2vec retrieval : 7   gold result : 7\n",
            "result word2vec retrieval : 1   gold result : 1\n",
            "result word2vec retrieval : 1   gold result : 1\n",
            "result word2vec retrieval : 1   gold result : 1\n",
            "result word2vec retrieval : 8   gold result : 7\n",
            "result word2vec retrieval : 7   gold result : 7\n",
            "result word2vec retrieval : 7   gold result : 7\n",
            "result word2vec retrieval : 1   gold result : 1\n",
            "result word2vec retrieval : 1   gold result : 1\n",
            "result word2vec retrieval : 4   gold result : 1\n",
            "result word2vec retrieval : 1   gold result : 1\n",
            "result word2vec retrieval : 6   gold result : 7\n",
            "result word2vec retrieval : 1   gold result : 1\n",
            "result word2vec retrieval : 5   gold result : 1\n",
            "result word2vec retrieval : 0   gold result : 7\n",
            "result word2vec retrieval : 0   gold result : 7\n",
            "result word2vec retrieval : 7   gold result : 7\n",
            "result word2vec retrieval : 1   gold result : 1\n",
            "result word2vec retrieval : 1   gold result : 3\n",
            "result word2vec retrieval : 7   gold result : 7\n",
            "result word2vec retrieval : 4   gold result : 3\n",
            "result word2vec retrieval : 3   gold result : 3\n",
            "result word2vec retrieval : 4   gold result : 3\n",
            "result word2vec retrieval : 3   gold result : 3\n",
            "result word2vec retrieval : 6   gold result : 3\n",
            "result word2vec retrieval : 0   gold result : 3\n",
            "result word2vec retrieval : 2   gold result : 3\n",
            "result word2vec retrieval : 7   gold result : 7\n",
            "result word2vec retrieval : 7   gold result : 7\n",
            "result word2vec retrieval : 8   gold result : 7\n",
            "result word2vec retrieval : 1   gold result : 7\n",
            "result word2vec retrieval : 4   gold result : 1\n",
            "result word2vec retrieval : 1   gold result : 1\n",
            "result word2vec retrieval : 7   gold result : 7\n",
            "result word2vec retrieval : 2   gold result : 1\n",
            "result word2vec retrieval : 4   gold result : 1\n",
            "result word2vec retrieval : 3   gold result : 1\n",
            "result word2vec retrieval : 7   gold result : 7\n",
            "result word2vec retrieval : 7   gold result : 7\n",
            "result word2vec retrieval : 7   gold result : 7\n",
            "result word2vec retrieval : 7   gold result : 7\n",
            "result word2vec retrieval : 1   gold result : 1\n",
            "result word2vec retrieval : 7   gold result : 7\n",
            "result word2vec retrieval : 7   gold result : 7\n",
            "result word2vec retrieval : 7   gold result : 7\n",
            "result word2vec retrieval : 7   gold result : 7\n",
            "result word2vec retrieval : 8   gold result : 1\n",
            "result word2vec retrieval : 7   gold result : 7\n",
            "result word2vec retrieval : 7   gold result : 7\n",
            "result word2vec retrieval : 7   gold result : 7\n",
            "result word2vec retrieval : 7   gold result : 7\n",
            "result word2vec retrieval : 1   gold result : 3\n",
            "result word2vec retrieval : 3   gold result : 3\n",
            "result word2vec retrieval : 1   gold result : 3\n",
            "result word2vec retrieval : 7   gold result : 7\n",
            "result word2vec retrieval : 7   gold result : 7\n",
            "result word2vec retrieval : 1   gold result : 1\n",
            "result word2vec retrieval : 6   gold result : 1\n",
            "result word2vec retrieval : 7   gold result : 7\n",
            "result word2vec retrieval : 6   gold result : 1\n",
            "result word2vec retrieval : 0   gold result : 1\n",
            "result word2vec retrieval : 7   gold result : 7\n",
            "result word2vec retrieval : 2   gold result : 1\n",
            "result word2vec retrieval : 0   gold result : 0\n",
            "0.6688434478662023\n"
          ],
          "name": "stdout"
        },
        {
          "output_type": "stream",
          "text": [
            "/usr/local/lib/python3.7/dist-packages/sklearn/metrics/_classification.py:1859: UserWarning: y_pred contains classes not in y_true\n",
            "  warnings.warn('y_pred contains classes not in y_true')\n"
          ],
          "name": "stderr"
        }
      ]
    }
  ]
}